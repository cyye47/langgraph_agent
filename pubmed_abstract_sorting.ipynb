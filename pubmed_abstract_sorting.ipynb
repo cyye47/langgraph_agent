{
 "cells": [
  {
   "cell_type": "code",
   "execution_count": 5,
   "metadata": {},
   "outputs": [
    {
     "name": "stderr",
     "output_type": "stream",
     "text": [
      "/Users/chaoyangye/Documents/Computation/langgraph_agent/.venv/lib/python3.9/site-packages/urllib3/__init__.py:35: NotOpenSSLWarning: urllib3 v2 only supports OpenSSL 1.1.1+, currently the 'ssl' module is compiled with 'LibreSSL 2.8.3'. See: https://github.com/urllib3/urllib3/issues/3020\n",
      "  warnings.warn(\n",
      "/Users/chaoyangye/Documents/Computation/langgraph_agent/.venv/lib/python3.9/site-packages/tqdm/auto.py:21: TqdmWarning: IProgress not found. Please update jupyter and ipywidgets. See https://ipywidgets.readthedocs.io/en/stable/user_install.html\n",
      "  from .autonotebook import tqdm as notebook_tqdm\n"
     ]
    }
   ],
   "source": [
    "import os\n",
    "import fitz  # PyMuPDF for PDFs\n",
    "import pandas as pd\n",
    "import pptx # from python-pptx\n",
    "from typing import TypedDict, List, Dict, Any, Optional\n",
    "from langgraph.graph import StateGraph, END # from langgraph\n",
    "from langchain_google_genai import GoogleGenerativeAIEmbeddings, ChatGoogleGenerativeAI\n",
    "import requests\n",
    "import ast\n",
    "import re\n",
    "import torch\n",
    "from datasets import load_dataset\n",
    "from transformers import AutoTokenizer, AutoModelForSequenceClassification, pipeline\n",
    "import spacy\n",
    "from dotenv import load_dotenv\n",
    "\n",
    "load_dotenv()\n",
    "api_key = os.getenv(\"GEMINI_API_KEY\")\n",
    "\n",
    "# Initialize our LLM\n",
    "model = ChatGoogleGenerativeAI(model=\"gemini-2.0-flash\", google_api_key = api_key)"
   ]
  },
  {
   "cell_type": "markdown",
   "metadata": {},
   "source": [
    "# Step 1: Define State\n",
    "\n",
    "We need to track\n",
    "- Whether it's a file containing pubmed abstracts (LLM)\n",
    "\n",
    "- Find the right abstract containing the keywords (LLM)\n",
    "\n",
    "- If so extract PMID, make URL and retrieve pubmed webpage in pubmed format and extract drug substance info\n",
    "\n",
    "- Compile author, journal, PMID and drug substance into a table as output\n",
    "\n",
    "- identify biomedical entities from the abstract, and then predict if the chemical used is the right drug for the target using BERT transormer model from huggingface"
   ]
  },
  {
   "cell_type": "code",
   "execution_count": 29,
   "metadata": {},
   "outputs": [],
   "source": [
    "class PubmedState(TypedDict):\n",
    "    file_path: Optional[str]\n",
    "    text_snippet: Optional[str]           \n",
    "    is_pubmed: Optional[bool]\n",
    "    keyword: Optional[str] # filter for only relevant abstract\n",
    "    filtered_abstract: Optional[str]\n",
    "    filtered_pmid: List[str]\n",
    "    error_msg: Optional[str]\n",
    "    drug_substance: List[str]\n",
    "    pred_outcome: List[str]"
   ]
  },
  {
   "cell_type": "markdown",
   "metadata": {},
   "source": [
    "# Step 2: Define Nodes"
   ]
  },
  {
   "cell_type": "code",
   "execution_count": 31,
   "metadata": {},
   "outputs": [],
   "source": [
    "def extract_text(state: PubmedState) -> PubmedState:\n",
    "    file_path = state[\"file_path\"]\n",
    "    ext = os.path.splitext(file_path)[-1].lower()\n",
    "    text_snippet = \"\"\n",
    "\n",
    "    if ext in [\".txt\", \".csv\"]:\n",
    "        with open(file_path, \"r\", encoding=\"utf-8\") as f:\n",
    "            text_snippet = f.read()\n",
    "    elif ext in [\".xlsx\", \".xls\"]:\n",
    "        df = pd.read_excel(file_path)\n",
    "        text_snippet = \"\\n\".join(df.astype(str).values.flatten())\n",
    "    elif ext == \".pdf\":\n",
    "        with fitz.open(file_path) as doc:\n",
    "            text_snippet = \"\\n\".join(page.get_text() for page in doc)\n",
    "    elif ext in [\".pptx\", \".ppt\"]:\n",
    "        prs = pptx.Presentation(file_path)\n",
    "        text_snippet = \"\\n\".join([slide.shapes.text for slide in prs.slides if hasattr(slide.shapes, 'text')])\n",
    "    else:\n",
    "        raise ValueError(\"Unsupported file format\")\n",
    "    print(text_snippet[:50])\n",
    "    return {\n",
    "        \"text_snippet\": text_snippet\n",
    "        }"
   ]
  },
  {
   "cell_type": "code",
   "execution_count": 32,
   "metadata": {},
   "outputs": [],
   "source": [
    "def check_pubmed(state: PubmedState) -> PubmedState:\n",
    "    try:\n",
    "        text_snippet = state[\"text_snippet\"]\n",
    "        prompt = f\"\"\"\n",
    "        Determine if the following content is from a valid PubMed file.\n",
    "        Respond with 'Yes' if it is, 'No' if it is not.\n",
    "        Content:\n",
    "        {text_snippet[:1000]}  # Limit to avoid exceeding token limits\n",
    "        \"\"\"\n",
    "        response = model.invoke(prompt)\n",
    "        is_pubmed = \"Yes\" in response.content\n",
    "    except Exception as e:\n",
    "        print(f\"Error processing file: {e}\")\n",
    "        is_pubmed = False\n",
    "    return {\"is_pubmed\": is_pubmed}"
   ]
  },
  {
   "cell_type": "code",
   "execution_count": 33,
   "metadata": {},
   "outputs": [],
   "source": [
    "def filter_pubmed(state: PubmedState) -> PubmedState:\n",
    "    try:\n",
    "        text_snippet = state[\"text_snippet\"]\n",
    "        keyword = state[\"keyword\"]\n",
    "        filtered_pmid = state[\"filtered_pmid\"]\n",
    "        prompt = f\"\"\"\n",
    "        Filter for the abstract containing {keyword} in only the author affilication portion of following content.\n",
    "        Return with a table of 4 columns listing authors, journal, publication time and PMID.\n",
    "        Content:\n",
    "        {text_snippet}  # Limit to avoid exceeding token limits\n",
    "        \"\"\"\n",
    "        response = model.invoke(prompt)\n",
    "        filtered_abstract = response.content\n",
    "        prompt = f\"\"\"\n",
    "        Filter for a list of PMID from the following content.\n",
    "        Return with a list of PMID\n",
    "        Content:\n",
    "        {filtered_abstract}\n",
    "        \"\"\"\n",
    "        response = model.invoke(prompt)\n",
    "        filtered_pmid = response.content\n",
    "    except Exception as e:\n",
    "        print(f\"Error processing file: {e}\")\n",
    "        filtered_abstract = \"\"\n",
    "        filtered_pmid = \"\"\n",
    "    return {\n",
    "        \"filtered_abstract\": filtered_abstract,\n",
    "        \"filtered_pmid\": filtered_pmid\n",
    "        }"
   ]
  },
  {
   "cell_type": "code",
   "execution_count": 34,
   "metadata": {},
   "outputs": [],
   "source": [
    "# Define routing logic\n",
    "def direct_abstract(state: PubmedState) -> str:\n",
    "    if state[\"is_pubmed\"]:\n",
    "        return \"pubmed\"\n",
    "    else:\n",
    "        return \"not pubmed\""
   ]
  },
  {
   "cell_type": "code",
   "execution_count": 35,
   "metadata": {},
   "outputs": [],
   "source": [
    "def print_error(state: PubmedState) -> PubmedState:\n",
    "    return {\n",
    "        \"error_msg\": \"This file does not contain pubmed abstracts\"\n",
    "    }"
   ]
  },
  {
   "cell_type": "code",
   "execution_count": 36,
   "metadata": {},
   "outputs": [],
   "source": [
    "# append drug substance info to the table\n",
    "def add_drug_substance(state: PubmedState) -> PubmedState:\n",
    "    pmids = state[\"filtered_pmid\"].strip('`\\n[]')\n",
    "    pmids = ast.literal_eval(pmids)\n",
    "    drug_substance_list = []\n",
    "    print(\"search start\", pmids)\n",
    "    for pmid in pmids:\n",
    "        url = \"https://pubmed.ncbi.nlm.nih.gov/\" + str(pmid) + \"/?format=pubmed\"\n",
    "        # search txt in url linked webpage\n",
    "        # extract drug substance under the RN tags\n",
    "        try:\n",
    "            response = requests.get(url)\n",
    "            response.raise_for_status()  # Raise an error for bad responses\n",
    "\n",
    "            webpage_content = response.text\n",
    "        \n",
    "            rn_strings = re.findall(r'^RN.*\\((.*?)\\)', webpage_content, re.MULTILINE)\n",
    "            # Concatenate the extracted drug substance info into a list\n",
    "            drug_substance_list.append(rn_strings)\n",
    "\n",
    "        except requests.RequestException as e:\n",
    "            print(f\"Error retrieving URL: {e}\")\n",
    "            drug_substance_list.append()\n",
    "\n",
    "    return {\"drug_substance\": drug_substance_list}"
   ]
  },
  {
   "cell_type": "code",
   "execution_count": 52,
   "metadata": {},
   "outputs": [],
   "source": [
    "def chem_bio_pred(state: PubmedState) -> str:\n",
    "    \n",
    "    # Load biomedical entity recognition\n",
    "    nlp = spacy.load(\"en_core_sci_sm\")\n",
    "\n",
    "    # Load BioBERT model fine-tuned on biomedical relations\n",
    "    model_name = \"distilbert-base-uncased\"  # swap with BioBERT if you fine-tune later\n",
    "    tokenizer = AutoTokenizer.from_pretrained(model_name)\n",
    "\n",
    "    # skipping fine tuning\n",
    "\n",
    "    # Extract biomedical entities from abstract\n",
    "    # skipped for now\n",
    "    # doc = nlp(patient_report)\n",
    "    # entities = [(ent.text, ent.label_) for ent in doc.ents]\n",
    "    # print(\"\\n🧬 Extracted Entities:\")\n",
    "    # for ent, label in entities:\n",
    "    #     print(f\" - {ent} ({label})\")\n",
    "\n",
    "    # Create input for transformer (e.g., check relation between drug and protein)\n",
    "    chem_entity = state[\"drug_substance\"] # this is a list, each element is also a list containing multiple drug substances\n",
    "    bio_entity = state[\"keyword\"]\n",
    "    pred_outcome = []\n",
    "\n",
    "    for ent in chem_entity:\n",
    "        for ent_i in ent:\n",
    "            classifier = pipeline(\"text-classification\", model=model_name, tokenizer=tokenizer)\n",
    "            input_text = f\"{ent_i} interacts with {bio_entity}\"\n",
    "            prediction = classifier(input_text)\n",
    "            pred_outcome.append(ent_i + \" with a prediction score \" + str(round(prediction[0][\"score\"], 2)))\n",
    "\n",
    "    return {\n",
    "        \"pred_outcome\": pred_outcome\n",
    "    }"
   ]
  },
  {
   "cell_type": "markdown",
   "metadata": {},
   "source": [
    "# Step 3: Build graph"
   ]
  },
  {
   "cell_type": "code",
   "execution_count": 53,
   "metadata": {},
   "outputs": [],
   "source": [
    "def build_graph():\n",
    "    graph = StateGraph(PubmedState)\n",
    "    graph.add_node(\"extract_text\", extract_text)\n",
    "    graph.add_node(\"check_pubmed\", check_pubmed)\n",
    "    graph.add_node(\"filter_pubmed\", filter_pubmed)\n",
    "    graph.add_node(\"print_error\", print_error)\n",
    "    graph.add_node(\"add_drug_substance\", add_drug_substance)\n",
    "    graph.add_node(\"chem_bio_pred\", chem_bio_pred)\n",
    "\n",
    "    graph.set_entry_point(\"extract_text\")\n",
    "    graph.add_edge(\"extract_text\", \"check_pubmed\")\n",
    "\n",
    "    # add coniditional edge\n",
    "    graph.add_conditional_edges(\n",
    "        \"check_pubmed\",\n",
    "        direct_abstract,\n",
    "        {\n",
    "            \"pubmed\": \"filter_pubmed\",\n",
    "            \"not pubmed\": \"print_error\"\n",
    "        }\n",
    "    )\n",
    "    \n",
    "    graph.add_edge(\"print_error\", END)\n",
    "    graph.add_edge(\"filter_pubmed\", \"add_drug_substance\")\n",
    "    graph.add_edge(\"add_drug_substance\", \"chem_bio_pred\")\n",
    "    graph.add_edge(\"chem_bio_pred\", END)\n",
    "    return graph"
   ]
  },
  {
   "cell_type": "markdown",
   "metadata": {},
   "source": [
    "# Step 4: Visualize graph"
   ]
  },
  {
   "cell_type": "code",
   "execution_count": 54,
   "metadata": {},
   "outputs": [
    {
     "data": {
      "image/png": "[encoded data removed]",
      "text/plain": [
       "<IPython.core.display.Image object>"
      ]
     },
     "metadata": {},
     "output_type": "display_data"
    }
   ],
   "source": [
    "# Example usage:\n",
    "graph = build_graph()\n",
    "compiled_graph = graph.compile()\n",
    "\n",
    "# visualize graph\n",
    "from IPython.display import Image, display\n",
    "display(Image(compiled_graph.get_graph().draw_mermaid_png()))"
   ]
  },
  {
   "cell_type": "markdown",
   "metadata": {},
   "source": [
    "# Step 5: Execute"
   ]
  },
  {
   "cell_type": "code",
   "execution_count": 67,
   "metadata": {},
   "outputs": [
    {
     "name": "stdout",
     "output_type": "stream",
     "text": [
      "\n",
      "Processing file...\n",
      "1. Behav Brain Res. 2021 May 7;405:113201. doi: 10\n",
      "search start (35758639, 36273943, 38537670)\n"
     ]
    },
    {
     "name": "stderr",
     "output_type": "stream",
     "text": [
      "/Users/chaoyangye/Documents/Computation/langgraph_agent/.venv/lib/python3.9/site-packages/spacy/util.py:910: UserWarning: [W095] Model 'en_core_sci_sm' (0.5.1) was trained with spaCy v3.4.1 and may not be 100% compatible with the current version (3.7.2). If you see errors or degraded performance, download a newer compatible model or retrain your custom model with the current spaCy version. For more details and available updates, run: python -m spacy validate\n",
      "  warnings.warn(warn_msg)\n",
      "Some weights of DistilBertForSequenceClassification were not initialized from the model checkpoint at distilbert-base-uncased and are newly initialized: ['classifier.bias', 'classifier.weight', 'pre_classifier.bias', 'pre_classifier.weight']\n",
      "You should probably TRAIN this model on a down-stream task to be able to use it for predictions and inference.\n",
      "Device set to use mps:0\n",
      "Some weights of DistilBertForSequenceClassification were not initialized from the model checkpoint at distilbert-base-uncased and are newly initialized: ['classifier.bias', 'classifier.weight', 'pre_classifier.bias', 'pre_classifier.weight']\n",
      "You should probably TRAIN this model on a down-stream task to be able to use it for predictions and inference.\n",
      "Device set to use mps:0\n",
      "Some weights of DistilBertForSequenceClassification were not initialized from the model checkpoint at distilbert-base-uncased and are newly initialized: ['classifier.bias', 'classifier.weight', 'pre_classifier.bias', 'pre_classifier.weight']\n",
      "You should probably TRAIN this model on a down-stream task to be able to use it for predictions and inference.\n",
      "Device set to use mps:0\n",
      "Some weights of DistilBertForSequenceClassification were not initialized from the model checkpoint at distilbert-base-uncased and are newly initialized: ['classifier.bias', 'classifier.weight', 'pre_classifier.bias', 'pre_classifier.weight']\n",
      "You should probably TRAIN this model on a down-stream task to be able to use it for predictions and inference.\n",
      "Device set to use mps:0\n",
      "Some weights of DistilBertForSequenceClassification were not initialized from the model checkpoint at distilbert-base-uncased and are newly initialized: ['classifier.bias', 'classifier.weight', 'pre_classifier.bias', 'pre_classifier.weight']\n",
      "You should probably TRAIN this model on a down-stream task to be able to use it for predictions and inference.\n",
      "Device set to use mps:0\n",
      "Some weights of DistilBertForSequenceClassification were not initialized from the model checkpoint at distilbert-base-uncased and are newly initialized: ['classifier.bias', 'classifier.weight', 'pre_classifier.bias', 'pre_classifier.weight']\n",
      "You should probably TRAIN this model on a down-stream task to be able to use it for predictions and inference.\n",
      "Device set to use mps:0\n",
      "Some weights of DistilBertForSequenceClassification were not initialized from the model checkpoint at distilbert-base-uncased and are newly initialized: ['classifier.bias', 'classifier.weight', 'pre_classifier.bias', 'pre_classifier.weight']\n",
      "You should probably TRAIN this model on a down-stream task to be able to use it for predictions and inference.\n",
      "Device set to use mps:0\n",
      "Some weights of DistilBertForSequenceClassification were not initialized from the model checkpoint at distilbert-base-uncased and are newly initialized: ['classifier.bias', 'classifier.weight', 'pre_classifier.bias', 'pre_classifier.weight']\n",
      "You should probably TRAIN this model on a down-stream task to be able to use it for predictions and inference.\n",
      "Device set to use mps:0\n",
      "Some weights of DistilBertForSequenceClassification were not initialized from the model checkpoint at distilbert-base-uncased and are newly initialized: ['classifier.bias', 'classifier.weight', 'pre_classifier.bias', 'pre_classifier.weight']\n",
      "You should probably TRAIN this model on a down-stream task to be able to use it for predictions and inference.\n",
      "Device set to use mps:0\n",
      "Some weights of DistilBertForSequenceClassification were not initialized from the model checkpoint at distilbert-base-uncased and are newly initialized: ['classifier.bias', 'classifier.weight', 'pre_classifier.bias', 'pre_classifier.weight']\n",
      "You should probably TRAIN this model on a down-stream task to be able to use it for predictions and inference.\n",
      "Device set to use mps:0\n",
      "Some weights of DistilBertForSequenceClassification were not initialized from the model checkpoint at distilbert-base-uncased and are newly initialized: ['classifier.bias', 'classifier.weight', 'pre_classifier.bias', 'pre_classifier.weight']\n",
      "You should probably TRAIN this model on a down-stream task to be able to use it for predictions and inference.\n",
      "Device set to use mps:0\n",
      "Some weights of DistilBertForSequenceClassification were not initialized from the model checkpoint at distilbert-base-uncased and are newly initialized: ['classifier.bias', 'classifier.weight', 'pre_classifier.bias', 'pre_classifier.weight']\n",
      "You should probably TRAIN this model on a down-stream task to be able to use it for predictions and inference.\n",
      "Device set to use mps:0\n",
      "Some weights of DistilBertForSequenceClassification were not initialized from the model checkpoint at distilbert-base-uncased and are newly initialized: ['classifier.bias', 'classifier.weight', 'pre_classifier.bias', 'pre_classifier.weight']\n",
      "You should probably TRAIN this model on a down-stream task to be able to use it for predictions and inference.\n",
      "Device set to use mps:0\n"
     ]
    },
    {
     "name": "stdout",
     "output_type": "stream",
     "text": [
      "Pubmed file or not?\n",
      " True\n",
      "Any error during the process?\n",
      " None\n",
      "Filtered abstract containing keyword:\n",
      " ```\n",
      "| Authors         | Journal            | Publication Time | PMID      |\n",
      "|-----------------|--------------------|------------------|-----------|\n",
      "| Paul SM, Yohn SE, Popiolek M, Miller AC, Felder CC | Am J Psychiatry | 2022 Sep        | 35758639  |\n",
      "| Yohn SE, Weiden PJ, Felder CC, Stahl SM | Trends Pharmacol Sci | 2022 Dec        | 36273943  |\n",
      "| Paul SM, Yohn SE, Brannan SK, Neugebauer NM, Breier A | Biol Psychiatry | 2024 Oct 15     | 38537670  |\n",
      "```\n",
      "Filtered PMID\n",
      " ```\n",
      "[35758639, 36273943, 38537670]\n",
      "```\n",
      "Found cited drug substance\n",
      " [['Antipsychotic Agents', 'Muscarinic Agonists', 'Receptors, Muscarinic'], ['Muscarinic Agonists', 'Receptors, Muscarinic', 'Acetylcholine', 'Receptor, Muscarinic M1'], ['Antipsychotic Agents', 'Receptors, Muscarinic', 'Muscarinic Agonists', 'xanomeline', 'Pyridines', 'Thiadiazoles']]\n",
      "Karuna is predicted to interact with Antipsychotic Agents with a prediction score 0.55\n",
      "Karuna is predicted to interact with Muscarinic Agonists with a prediction score 0.55\n",
      "Karuna is predicted to interact with Receptors, Muscarinic with a prediction score 0.56\n",
      "Karuna is predicted to interact with Muscarinic Agonists with a prediction score 0.52\n",
      "Karuna is predicted to interact with Receptors, Muscarinic with a prediction score 0.51\n",
      "Karuna is predicted to interact with Acetylcholine with a prediction score 0.52\n",
      "Karuna is predicted to interact with Receptor, Muscarinic M1 with a prediction score 0.52\n",
      "Karuna is predicted to interact with Antipsychotic Agents with a prediction score 0.51\n",
      "Karuna is predicted to interact with Receptors, Muscarinic with a prediction score 0.52\n",
      "Karuna is predicted to interact with Muscarinic Agonists with a prediction score 0.52\n",
      "Karuna is predicted to interact with xanomeline with a prediction score 0.5\n",
      "Karuna is predicted to interact with Pyridines with a prediction score 0.52\n",
      "Karuna is predicted to interact with Thiadiazoles with a prediction score 0.52\n"
     ]
    }
   ],
   "source": [
    "# processing and identifying file\n",
    "# then extract abstracts containing keywords\n",
    "print(\"\\nProcessing file...\")\n",
    "\n",
    "pubmed_result = compiled_graph.invoke({\n",
    "    \"file_path\": \"data/abstract-Schizophre-set.txt\",\n",
    "    \"text_snippet\": \"\",          \n",
    "    \"is_pubmed\": None,\n",
    "    \"filtered_abstract\": None,\n",
    "    \"filtered_pmid\": None,\n",
    "    \"keyword\": \"Karuna\",\n",
    "    \"error_msg\": None,\n",
    "    \"drug_substance\": None,\n",
    "    \"pred_outcome\": None\n",
    "})\n",
    "\n",
    "print(\"Pubmed file or not?\\n\", pubmed_result[\"is_pubmed\"])\n",
    "print(\"Any error during the process?\\n\", pubmed_result[\"error_msg\"])\n",
    "print(\"Filtered abstract containing keyword:\\n\", pubmed_result[\"filtered_abstract\"])\n",
    "print(\"Filtered PMID\\n\", pubmed_result[\"filtered_pmid\"])\n",
    "print(\"Found cited drug substance\\n\", pubmed_result[\"drug_substance\"])\n",
    "\n",
    "for pred in pubmed_result[\"pred_outcome\"]:\n",
    "    print(pubmed_result[\"keyword\"] + \" is predicted to interact with \" + pred)"
   ]
  },
  {
   "cell_type": "code",
   "execution_count": 65,
   "metadata": {},
   "outputs": [
    {
     "name": "stdout",
     "output_type": "stream",
     "text": [
      "Karuna is predicted to interact with Antipsychotic Agents with a prediction score 0.52\n",
      "Karuna is predicted to interact with Muscarinic Agonists with a prediction score 0.56\n",
      "Karuna is predicted to interact with Receptors, Muscarinic with a prediction score 0.51\n",
      "Karuna is predicted to interact with Muscarinic Agonists with a prediction score 0.52\n",
      "Karuna is predicted to interact with Receptors, Muscarinic with a prediction score 0.52\n",
      "Karuna is predicted to interact with Acetylcholine with a prediction score 0.51\n",
      "Karuna is predicted to interact with Receptor, Muscarinic M1 with a prediction score 0.54\n",
      "Karuna is predicted to interact with Antipsychotic Agents with a prediction score 0.51\n",
      "Karuna is predicted to interact with Receptors, Muscarinic with a prediction score 0.57\n",
      "Karuna is predicted to interact with Muscarinic Agonists with a prediction score 0.52\n",
      "Karuna is predicted to interact with xanomeline with a prediction score 0.51\n",
      "Karuna is predicted to interact with Pyridines with a prediction score 0.51\n",
      "Karuna is predicted to interact with Thiadiazoles with a prediction score 0.51\n"
     ]
    }
   ],
   "source": [
    "for pred in pubmed_result[\"pred_outcome\"]:\n",
    "    print(pubmed_result[\"keyword\"] + \" is predicted to interact with \" + pred)"
   ]
  },
  {
   "cell_type": "code",
   "execution_count": 63,
   "metadata": {},
   "outputs": [
    {
     "data": {
      "text/plain": [
       "['Antipsychotic Agents with a prediction score 0.52',\n",
       " 'Muscarinic Agonists with a prediction score 0.56',\n",
       " 'Receptors, Muscarinic with a prediction score 0.51',\n",
       " 'Muscarinic Agonists with a prediction score 0.52',\n",
       " 'Receptors, Muscarinic with a prediction score 0.52',\n",
       " 'Acetylcholine with a prediction score 0.51',\n",
       " 'Receptor, Muscarinic M1 with a prediction score 0.54',\n",
       " 'Antipsychotic Agents with a prediction score 0.51',\n",
       " 'Receptors, Muscarinic with a prediction score 0.57',\n",
       " 'Muscarinic Agonists with a prediction score 0.52',\n",
       " 'xanomeline with a prediction score 0.51',\n",
       " 'Pyridines with a prediction score 0.51',\n",
       " 'Thiadiazoles with a prediction score 0.51']"
      ]
     },
     "execution_count": 63,
     "metadata": {},
     "output_type": "execute_result"
    }
   ],
   "source": [
    "pubmed_result[\"pred_outcome\"]"
   ]
  }
 ],
 "metadata": {
  "kernelspec": {
   "display_name": ".venv",
   "language": "python",
   "name": "python3"
  },
  "language_info": {
   "codemirror_mode": {
    "name": "ipython",
    "version": 3
   },
   "file_extension": ".py",
   "mimetype": "text/x-python",
   "name": "python",
   "nbconvert_exporter": "python",
   "pygments_lexer": "ipython3",
   "version": "3.9.6"
  }
 },
 "nbformat": 4,
 "nbformat_minor": 2
}
